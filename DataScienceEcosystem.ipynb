{
 "cells": [
  {
   "cell_type": "markdown",
   "id": "05449e7c-2b4c-4a2f-a408-cf65377d3254",
   "metadata": {},
   "source": [
    "# Data Science Tools and Ecosystem"
   ]
  },
  {
   "cell_type": "markdown",
   "id": "2f7ed675-9610-47e7-abfa-80837325fc90",
   "metadata": {},
   "source": [
    "## In this notebook, Data Science Tools and Ecosystem are summarized."
   ]
  },
  {
   "cell_type": "markdown",
   "id": "292ef473-2042-455a-b6d0-e39e2d69ced1",
   "metadata": {},
   "source": [
    "### **Objectives:**\n",
    "* List of popular languages for Data Science\n",
    "* List of popular Libraries for Data Science\n",
    "* List of Tools used in DataScience\n",
    "* Few exampls of evaluating arithmetic expressions in Python"
   ]
  },
  {
   "cell_type": "markdown",
   "id": "cec77363-61bd-45e4-9491-0c4daddaba33",
   "metadata": {
    "tags": []
   },
   "source": [
    "#### Some of the popular languages that Data Scientists use are:\n",
    "1. R\n",
    "2. Python\n",
    "3. Java\n",
    "4. JavaScript\n",
    "5. SQL\n"
   ]
  },
  {
   "cell_type": "markdown",
   "id": "0b762793-c4c2-4fa0-abaa-f4384cf78153",
   "metadata": {},
   "source": [
    "### Some of the popular libraries that Data Scientists use are:\n",
    "1. TensorFlow\n",
    "2. NumPy\n",
    "3. SciPy\n",
    "4. Matplotlib\n",
    "5. Keras\n",
    "6. PyTorch"
   ]
  },
  {
   "cell_type": "markdown",
   "id": "d6921dca-ca63-4ac1-b949-5442c00c9400",
   "metadata": {},
   "source": [
    "| Data Science Tools |\n",
    "| -------------- |\n",
    "| Jupyter Notebook |\n",
    "| Hadoop |\n",
    "| TensorFlow |"
   ]
  },
  {
   "cell_type": "markdown",
   "id": "e9c7694a-2462-4ca3-b054-3d6bee76da14",
   "metadata": {},
   "source": [
    "### Below are a few examples of evaluating arithmetic expressions in Python"
   ]
  },
  {
   "cell_type": "code",
   "execution_count": 1,
   "id": "7568e042-2957-4a09-aa88-27d5842b392d",
   "metadata": {
    "tags": []
   },
   "outputs": [
    {
     "data": {
      "text/plain": [
       "17"
      ]
     },
     "execution_count": 1,
     "metadata": {},
     "output_type": "execute_result"
    }
   ],
   "source": [
    "# This is a simple arithmetic expression to multiply then add integers\n",
    "(3*4)+5"
   ]
  },
  {
   "cell_type": "code",
   "execution_count": 8,
   "id": "4f69317c-4d9b-4063-b7c3-0d4503fa7690",
   "metadata": {
    "tags": []
   },
   "outputs": [
    {
     "name": "stdout",
     "output_type": "stream",
     "text": [
      "3.3333333333333335\n"
     ]
    }
   ],
   "source": [
    "# This will convert 200 minutes to hours by dividing by 60\n",
    "min = 200\n",
    "hr = min / 60\n",
    "print(hr)"
   ]
  },
  {
   "cell_type": "markdown",
   "id": "bc570e9a-a75c-441b-9763-02b6d02d4091",
   "metadata": {},
   "source": [
    "## Author\n",
    "Shervin Shabanpour"
   ]
  },
  {
   "cell_type": "code",
   "execution_count": null,
   "id": "90616014-9e81-46f6-9488-0bd4e3f8f90a",
   "metadata": {},
   "outputs": [],
   "source": []
  }
 ],
 "metadata": {
  "kernelspec": {
   "display_name": "Python",
   "language": "python",
   "name": "conda-env-python-py"
  },
  "language_info": {
   "codemirror_mode": {
    "name": "ipython",
    "version": 3
   },
   "file_extension": ".py",
   "mimetype": "text/x-python",
   "name": "python",
   "nbconvert_exporter": "python",
   "pygments_lexer": "ipython3",
   "version": "3.7.12"
  }
 },
 "nbformat": 4,
 "nbformat_minor": 5
}
